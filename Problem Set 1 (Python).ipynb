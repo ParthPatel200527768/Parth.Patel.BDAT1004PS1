{
 "cells": [
  {
   "cell_type": "code",
   "execution_count": 183,
   "id": "423cc0ef",
   "metadata": {},
   "outputs": [
    {
     "name": "stdout",
     "output_type": "stream",
     "text": [
      "appyhay\n",
      "enterway\n"
     ]
    }
   ],
   "source": [
    "# Question 6 Python\n",
    "# 16. You can turn a word into pig-Latin using the following two rules(simplified):\n",
    "# • If the word starts with a consonant, move that letter to the end and append\n",
    "# 'ay'. For example, 'happy' becomes 'appyhay' and 'pencil' becomes 'encilpay'.\n",
    "# • If the word starts with a vowel, simply append 'way' to the end of the word.\n",
    "# For example, 'enter' becomes 'enterway' and 'other' becomes 'otherway' . For\n",
    "# our purposes, there are 5 vowels: a, e, i, o, u (so we count y as a consonant).\n",
    "# Write a function pig() that takes a word (i.e., a string) as input and returns its pigLatin form. Your function should still work if the input word contains upper case\n",
    "# characters. Your output should always be lower case however.\n",
    "\n",
    "value1 = \"happy\"\n",
    "value2 = \"enter\"\n",
    "\n",
    "def Latin(value): #define the function name Latin\n",
    "    \n",
    "    if(value[0] == 'a' or value[0] == 'e' or value[0] == 'i' or value[0] == 'o' or value[0] == 'u' ): # passing the loop for checking the initial word is either vowels or consonents\n",
    "        value = value + \"way\";\n",
    "        print(value);\n",
    "    \n",
    "    else:\n",
    "        first = value[0];\n",
    "        value = value[1:] # skipping the first word\n",
    "        value = value + first +\"ay\";\n",
    "        print(value);\n",
    "    \n",
    "\n",
    "\n",
    "\n",
    "Latin(value1) # return the value value 1\n",
    "Latin(value2) # simillarly value"
   ]
  },
  {
   "cell_type": "code",
   "execution_count": 56,
   "id": "83ec9e90",
   "metadata": {},
   "outputs": [
    {
     "name": "stdout",
     "output_type": "stream",
     "text": [
      "There are 15 patients of blood type A. \n",
      "There are 1 patients of blood type B. \n",
      "There are 13 patients of blood type AB. \n",
      "There are 15 patients of blood type O. \n",
      "There are 0 patients of blood type OO. \n"
     ]
    }
   ],
   "source": [
    "# Question 7 Python\n",
    "# File bloodtype1.txt records blood-types of patients (A, B, AB, O or OO) at a clinic.\n",
    "# Write a function bldcount() that reads the file with name name and reports (i.e.,\n",
    "# prints) how many patients there are in each bloodtype.\n",
    "\n",
    "\n",
    "# Open the file in read mode\n",
    "\n",
    "def bldcount(bloodtype1):\n",
    "    text = open(bloodtype1, \"r\") # reading the file\n",
    "    text = text.read()\n",
    "\n",
    "    res = text.split() # spliting the value by space present between them \n",
    "    # print (\"The list of words is : \" +  res[5])\n",
    "\n",
    "    aCount = bCount = abCount = oCount = ooCount = 0\n",
    "\n",
    "    for i in res:\n",
    "\n",
    "    #     print(i)\n",
    "\n",
    "        if i == \"A\":\n",
    "            aCount = aCount + 1\n",
    "        elif i == \"B\":\n",
    "            bCount = bCount + 1\n",
    "        elif i == \"AB\":\n",
    "            abCount = abCount + 1\n",
    "        elif i == \"O\":\n",
    "            oCount = oCount + 1\n",
    "        elif i == \"OO\":\n",
    "            ooCount = ooCount + 1\n",
    "        else:\n",
    "            print('Not Found')\n",
    "        \n",
    "    print(f\"There are {aCount} patients of blood type A. \")\n",
    "    print(f\"There are {bCount} patients of blood type B. \")\n",
    "    print(f\"There are {abCount} patients of blood type AB. \")\n",
    "    print(f\"There are {oCount} patients of blood type O. \")\n",
    "    print(f\"There are {ooCount} patients of blood type OO. \")\n",
    "    \n",
    "bldcount(\"bloodtype1.txt\")\n"
   ]
  },
  {
   "cell_type": "code",
   "execution_count": 117,
   "id": "3b370681",
   "metadata": {},
   "outputs": [
    {
     "name": "stdout",
     "output_type": "stream",
     "text": [
      "122.96544\n",
      "1.241401\n"
     ]
    }
   ],
   "source": [
    "# Question 8 Python\n",
    "# Write a function curconv() that takes as input:\n",
    "# 1. a currency represented using a string (e.g., 'JPY' for the Japanese Yen or\n",
    "# 'EUR' for the Euro)\n",
    "# 2. an amount\n",
    "# and then converts and returns the amount in US dollars.\n",
    "\n",
    "\n",
    "text = open(\"currencies.txt\", \"r\") # reading the file\n",
    "\n",
    "def curconv(cur, value): # initiating the function name curconv\n",
    "    for i in res:\n",
    "        if cur in i:\n",
    "            i = i.split() # spliting every individual data like for Europian or Japanese currency\n",
    "            conversionRate = float(i[1]) # converting the datatype from string to float\n",
    "            usdConverted = conversionRate * value # conversion formula\n",
    "            print(usdConverted)\n",
    "\n",
    "text = text.read() \n",
    "res = text.splitlines() # Diving by the lines\n",
    "\n",
    "curconv(\"EUR\",100)\n",
    "curconv(\"JPY\",100)"
   ]
  },
  {
   "cell_type": "code",
   "execution_count": 118,
   "id": "888a0bf0",
   "metadata": {},
   "outputs": [
    {
     "ename": "TypeError",
     "evalue": "unsupported operand type(s) for +: 'int' and 'str'",
     "output_type": "error",
     "traceback": [
      "\u001b[1;31m---------------------------------------------------------------------------\u001b[0m",
      "\u001b[1;31mTypeError\u001b[0m                                 Traceback (most recent call last)",
      "\u001b[1;32m~\\AppData\\Local\\Temp\\ipykernel_11360\\721716405.py\u001b[0m in \u001b[0;36m<module>\u001b[1;34m\u001b[0m\n\u001b[1;32m----> 1\u001b[1;33m \u001b[0mprint\u001b[0m\u001b[1;33m(\u001b[0m\u001b[1;36m6\u001b[0m \u001b[1;33m+\u001b[0m \u001b[1;34m\"A\"\u001b[0m\u001b[1;33m)\u001b[0m\u001b[1;33m\u001b[0m\u001b[1;33m\u001b[0m\u001b[0m\n\u001b[0m",
      "\u001b[1;31mTypeError\u001b[0m: unsupported operand type(s) for +: 'int' and 'str'"
     ]
    }
   ],
   "source": [
    "# Question 9 Python\n",
    "# Trying to add incompatible variables, as in\n",
    "# adding 6 + ‘a’\n",
    "\n",
    "print(6 + \"A\")"
   ]
  },
  {
   "cell_type": "code",
   "execution_count": 120,
   "id": "76d4848f",
   "metadata": {},
   "outputs": [
    {
     "ename": "IndexError",
     "evalue": "list index out of range",
     "output_type": "error",
     "traceback": [
      "\u001b[1;31m---------------------------------------------------------------------------\u001b[0m",
      "\u001b[1;31mIndexError\u001b[0m                                Traceback (most recent call last)",
      "\u001b[1;32m~\\AppData\\Local\\Temp\\ipykernel_11360\\4135262909.py\u001b[0m in \u001b[0;36m<module>\u001b[1;34m\u001b[0m\n\u001b[0;32m      1\u001b[0m \u001b[0mlist\u001b[0m \u001b[1;33m=\u001b[0m \u001b[1;33m[\u001b[0m\u001b[1;36m1\u001b[0m\u001b[1;33m,\u001b[0m \u001b[1;36m2\u001b[0m\u001b[1;33m,\u001b[0m \u001b[1;36m3\u001b[0m\u001b[1;33m,\u001b[0m \u001b[1;36m4\u001b[0m\u001b[1;33m,\u001b[0m \u001b[1;36m5\u001b[0m\u001b[1;33m,\u001b[0m \u001b[1;36m6\u001b[0m\u001b[1;33m,\u001b[0m \u001b[1;36m7\u001b[0m\u001b[1;33m,\u001b[0m \u001b[1;36m8\u001b[0m\u001b[1;33m,\u001b[0m \u001b[1;36m9\u001b[0m\u001b[1;33m,\u001b[0m \u001b[1;36m10\u001b[0m\u001b[1;33m]\u001b[0m\u001b[1;33m\u001b[0m\u001b[1;33m\u001b[0m\u001b[0m\n\u001b[1;32m----> 2\u001b[1;33m \u001b[0mprint\u001b[0m\u001b[1;33m(\u001b[0m\u001b[0mlist\u001b[0m\u001b[1;33m[\u001b[0m\u001b[1;36m12\u001b[0m\u001b[1;33m]\u001b[0m\u001b[1;33m)\u001b[0m\u001b[1;33m\u001b[0m\u001b[1;33m\u001b[0m\u001b[0m\n\u001b[0m",
      "\u001b[1;31mIndexError\u001b[0m: list index out of range"
     ]
    }
   ],
   "source": [
    "# Question 9 Python\n",
    "# Referring to the 12th item of a list that has only 10\n",
    "# items\n",
    "\n",
    "list = [1, 2, 3, 4, 5, 6, 7, 8, 9, 10]\n",
    "print(list[12])"
   ]
  },
  {
   "cell_type": "code",
   "execution_count": 124,
   "id": "aa0d3987",
   "metadata": {},
   "outputs": [
    {
     "ename": "ValueError",
     "evalue": "math domain error",
     "output_type": "error",
     "traceback": [
      "\u001b[1;31m---------------------------------------------------------------------------\u001b[0m",
      "\u001b[1;31mValueError\u001b[0m                                Traceback (most recent call last)",
      "\u001b[1;32m~\\AppData\\Local\\Temp\\ipykernel_11360\\3755102649.py\u001b[0m in \u001b[0;36m<module>\u001b[1;34m\u001b[0m\n\u001b[0;32m      1\u001b[0m \u001b[1;32mimport\u001b[0m \u001b[0mmath\u001b[0m\u001b[1;33m\u001b[0m\u001b[1;33m\u001b[0m\u001b[0m\n\u001b[1;32m----> 2\u001b[1;33m \u001b[0mprint\u001b[0m\u001b[1;33m(\u001b[0m\u001b[0mmath\u001b[0m\u001b[1;33m.\u001b[0m\u001b[0msqrt\u001b[0m\u001b[1;33m(\u001b[0m\u001b[1;33m-\u001b[0m\u001b[1;36m1.0\u001b[0m\u001b[1;33m)\u001b[0m\u001b[1;33m)\u001b[0m\u001b[1;33m\u001b[0m\u001b[1;33m\u001b[0m\u001b[0m\n\u001b[0m",
      "\u001b[1;31mValueError\u001b[0m: math domain error"
     ]
    }
   ],
   "source": [
    "# Question 9 Python\n",
    "# Using a value that is out ofrange for a function’s\n",
    "# input, such as calling math.sqrt(-1.0)\n",
    "\n",
    "import math\n",
    "print(math.sqrt(-1.0))"
   ]
  },
  {
   "cell_type": "code",
   "execution_count": 125,
   "id": "9e83fcf7",
   "metadata": {},
   "outputs": [
    {
     "ename": "NameError",
     "evalue": "name 'x' is not defined",
     "output_type": "error",
     "traceback": [
      "\u001b[1;31m---------------------------------------------------------------------------\u001b[0m",
      "\u001b[1;31mNameError\u001b[0m                                 Traceback (most recent call last)",
      "\u001b[1;32m~\\AppData\\Local\\Temp\\ipykernel_11360\\1353120783.py\u001b[0m in \u001b[0;36m<module>\u001b[1;34m\u001b[0m\n\u001b[1;32m----> 1\u001b[1;33m \u001b[0mprint\u001b[0m\u001b[1;33m(\u001b[0m\u001b[0mx\u001b[0m\u001b[1;33m)\u001b[0m\u001b[1;33m\u001b[0m\u001b[1;33m\u001b[0m\u001b[0m\n\u001b[0m",
      "\u001b[1;31mNameError\u001b[0m: name 'x' is not defined"
     ]
    }
   ],
   "source": [
    "# Question 9 Python\n",
    "# Using an undeclared variable, such as print(x)\n",
    "# when x has not been defined\n",
    "\n",
    "print(x)"
   ]
  },
  {
   "cell_type": "code",
   "execution_count": 126,
   "id": "c9bf50af",
   "metadata": {},
   "outputs": [
    {
     "ename": "FileNotFoundError",
     "evalue": "[Errno 2] No such file or directory: 'parth.txt'",
     "output_type": "error",
     "traceback": [
      "\u001b[1;31m---------------------------------------------------------------------------\u001b[0m",
      "\u001b[1;31mFileNotFoundError\u001b[0m                         Traceback (most recent call last)",
      "\u001b[1;32m~\\AppData\\Local\\Temp\\ipykernel_11360\\1577259944.py\u001b[0m in \u001b[0;36m<module>\u001b[1;34m\u001b[0m\n\u001b[1;32m----> 1\u001b[1;33m \u001b[0mtext\u001b[0m \u001b[1;33m=\u001b[0m \u001b[0mopen\u001b[0m\u001b[1;33m(\u001b[0m\u001b[1;34m\"parth.txt\"\u001b[0m\u001b[1;33m,\u001b[0m \u001b[1;34m\"r\"\u001b[0m\u001b[1;33m)\u001b[0m\u001b[1;33m\u001b[0m\u001b[1;33m\u001b[0m\u001b[0m\n\u001b[0m",
      "\u001b[1;31mFileNotFoundError\u001b[0m: [Errno 2] No such file or directory: 'parth.txt'"
     ]
    }
   ],
   "source": [
    "# Question 9 Python\n",
    "# Trying to open a file that does not exist, such as\n",
    "# mistyping the file name or looking in the wrong\n",
    "# directory\n",
    "\n",
    "text = open(\"parth.txt\", \"r\")"
   ]
  },
  {
   "cell_type": "code",
   "execution_count": 182,
   "id": "45d732e3",
   "metadata": {},
   "outputs": [
    {
     "name": "stdout",
     "output_type": "stream",
     "text": [
      "[1, 0, 0, 0, 1, 0, 0, 0, 0, 0, 0, 1, 0, 0, 0, 2, 0, 0, 0, 0, 0, 0, 0, 0, 0, 0]\n",
      "[1, 1, 1, 3, 5, 1, 1, 2, 1, 0, 1, 0, 1, 2, 4, 0, 1, 2, 0, 2, 1, 0, 1, 1, 0, 0]\n"
     ]
    }
   ],
   "source": [
    "# Question 10 Python\n",
    "# Encryption is the process of hiding the meaning of a text by substituting letters in the\n",
    "# message with other letters, according to some system. If the process is successful, no\n",
    "# one but the intended recipient can understand the encrypted message. Cryptanalysis\n",
    "# refers to attempts to undo the encryption, even if some details of the encryption are\n",
    "# unknown (for example, if an encrypted message has been intercepted). The first step\n",
    "# of cryptanalysis is often to build up a table of letter frequencies in the encrypted text.\n",
    "# Assume that the string letters is already defined as\n",
    "# 'abcdefghijklmnopqrstuvwxyz'. Write a function called frequencies()\n",
    "# that takes a string as its only parameter, and returns a list of integers, showing the\n",
    "# number of times each character appears in the text. Your function may ignore any\n",
    "# characters that are not in letters.\n",
    "\n",
    "def frequencies(x):\n",
    "    \n",
    "    alphabets = ['a','b','c','d','e','f','g','h','i','j','k','l','m','n','o','p','q','r','s','t','u','v','w','x','y','z'] # declaring this because of mantaining the sequese of the alphabets like from a-z\n",
    "    counts = [0,0,0,0,0,0,0,0,0,0,0,0,0,0,0,0,0,0,0,0,0,0,0,0,0,0] # intially passing 0 as there value\n",
    "\n",
    "    for i in x: # Declaring the i in the range of x which is the word declared by user\n",
    "        for j in alphabets: # Declaring another variable j which ranges within alphabets\n",
    "            if(i==j): # if the element in the given word presents in the alphabets and if it matches it will count the occurence of that element\n",
    "                index = alphabets.index(i)\n",
    "                counts[index] = counts[index]+1\n",
    "                break\n",
    "                \n",
    "    print(counts)\n",
    "\n",
    "frequencies(\"apple\")\n",
    "frequencies(\"The quick red fox got bored and went home\")\n",
    "    \n"
   ]
  },
  {
   "cell_type": "code",
   "execution_count": null,
   "id": "a778eb3f",
   "metadata": {},
   "outputs": [],
   "source": []
  }
 ],
 "metadata": {
  "celltoolbar": "Tags",
  "kernelspec": {
   "display_name": "Python 3 (ipykernel)",
   "language": "python",
   "name": "python3"
  },
  "language_info": {
   "codemirror_mode": {
    "name": "ipython",
    "version": 3
   },
   "file_extension": ".py",
   "mimetype": "text/x-python",
   "name": "python",
   "nbconvert_exporter": "python",
   "pygments_lexer": "ipython3",
   "version": "3.9.13"
  }
 },
 "nbformat": 4,
 "nbformat_minor": 5
}
