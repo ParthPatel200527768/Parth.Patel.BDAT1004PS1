{
 "cells": [
  {
   "cell_type": "markdown",
   "id": "30b7c50f",
   "metadata": {},
   "source": [
    "Question 1 C#\n",
    "What data type is each of the following?\n",
    "\n",
    "\n",
    "-> Data type of 5 is integer \n",
    "\n",
    "-> Data type of 5.0 is Double\n",
    "\n",
    "-> Data type of 5 > 1 is Boolean \n",
    "\n",
    "-> Data type of '5' is String \n",
    "\n",
    "-> Data type of '5' * 2 is String \n",
    "\n",
    "-> Data type of '5' + '2' is String\n",
    "\n",
    "-> Data type of 5 / 2 is Float\n",
    "\n",
    "-> Data type of 5 % 2 is int\n",
    "\n",
    "-> Data type of {5, 2, 1} is Array\n",
    "\n",
    "-> Data type of 5 == 3 is Boolean\n",
    "\n",
    "-> Data type of Pi (the number) is Double"
   ]
  },
  {
   "cell_type": "code",
   "execution_count": 2,
   "id": "f35871c0",
   "metadata": {},
   "outputs": [
    {
     "name": "stdout",
     "output_type": "stream",
     "text": [
      "The length of the txt string is: 34\r\n"
     ]
    }
   ],
   "source": [
    "/*Question 2 C#\n",
    "Write (and evaluate) C# expressions that answer these questions:\n",
    "\n",
    "a. How many letters are there in 'Supercalifragilisticexpialidocious'? */\n",
    "\n",
    "\n",
    "\n",
    "// create strings\n",
    "    string txt = \"Supercalifragilisticexpialidocious\";\n",
    "    \n",
    "    //Printing the lenght of given string\n",
    "    Console.WriteLine(\"The length of the txt string is: \" + txt.Length);"
   ]
  },
  {
   "cell_type": "code",
   "execution_count": 31,
   "id": "2dd81350",
   "metadata": {},
   "outputs": [
    {
     "name": "stdout",
     "output_type": "stream",
     "text": [
      "'ice' is Present in given string at 18\r\n"
     ]
    }
   ],
   "source": [
    "/*Question 2 C#\n",
    "Write (and evaluate) C# expressions that answer these questions: \n",
    "\n",
    "b. Does 'Supercalifragilisticexpialidocious' contain 'ice' as a substring? */\n",
    "\n",
    "\n",
    "\n",
    "  \n",
    "      // create strings\n",
    "      // For testing string str = \"Supercalifragilisticexpialidociousiceiceice\";\n",
    "      \n",
    "      //Declaring String\n",
    "      string str = \"Supercalifragilisticexpialidocious\";\n",
    "      \n",
    "      //Creating loop for taking the fixed size substring\n",
    "        for(int i = 0; i < str.Length - 2; i++)\n",
    "        {\n",
    "            //Checking for substring in given string\n",
    "            string a = str.Substring(i, 3); \n",
    "            \n",
    "            //If found then printing the position of substring\n",
    "            if(a==\"ice\")\n",
    "            {\n",
    "                Console.WriteLine(\"\\'ice\\' is Present in given string at \" + i);\n",
    "            }\n",
    "            \n",
    "        }\n",
    "      \n",
    "      \n",
    "\n"
   ]
  },
  {
   "cell_type": "code",
   "execution_count": 57,
   "id": "869a178c",
   "metadata": {},
   "outputs": [
    {
     "name": "stdout",
     "output_type": "stream",
     "text": [
      "The longest string number is 1 with the length of 34\r\n"
     ]
    }
   ],
   "source": [
    "/*Question 2 C#\n",
    "Write (and evaluate) C# expressions that answer these questions: \n",
    "\n",
    "c. Which of the following words is the longest:\n",
    "Supercalifragilisticexpialidocious, Honorificabilitudinitatibus, or\n",
    "Bababadalgharaghtakamminarronnkonn? */\n",
    "\n",
    "\n",
    "\n",
    "\n",
    "// create strings\n",
    "    string str1 = \"Supercalifragilisticexpialidocious\"; // This is no. 1 String\n",
    "    string str2 = \"Honorificabilitudinitatibus\"; // This is no. 2 String\n",
    "    string str3 = \"Bababadalgharaghtakamminarronnkonn\"; // This is no. 3 String\n",
    "    \n",
    "    int[] myNum = {str1.Length,str2.Length,str3.Length}; // Storing the Length of all string in Array named myNum\n",
    "    int maxValue = myNum.Max(); // Finding the maximum value\n",
    "    int p = Array.IndexOf(myNum, maxValue); \n",
    "    p++; \n",
    "    \n",
    "    //Printing the lenght of given string\n",
    "    Console.WriteLine(\"The longest string number is \" + p + \" with the length of \" + maxValue );"
   ]
  },
  {
   "cell_type": "code",
   "execution_count": 64,
   "id": "26012d53",
   "metadata": {},
   "outputs": [
    {
     "name": "stdout",
     "output_type": "stream",
     "text": [
      "Bartok\n",
      "Bellini\n",
      "Berlioz\n",
      "Bernstein\n",
      "Borodin\n",
      "Brian\n",
      "Buxtehude\n"
     ]
    }
   ],
   "source": [
    "/*Question 2 C#\n",
    "Write (and evaluate) C# expressions that answer these questions: \n",
    "\n",
    "d. Which composer comes first in the dictionary: 'Berlioz', 'Borodin', 'Brian',\n",
    "'Bartok', 'Bellini', 'Buxtehude', 'Bernstein'. Which one comes last? */\n",
    "\n",
    "\n",
    "\n",
    "// Sort a string\n",
    "string[] words = {\"Berlioz\", \"Borodin\", \"Brian\", \"Bartok\", \"Bellini\", \"Buxtehude\", \"Bernstein\"};\n",
    "\n",
    "Array.Sort(words); //Sorting the word by '.Sort' method\n",
    "\n",
    "    foreach (string a in words) //looping every word present in the array\n",
    "    {\n",
    "        Console.WriteLine(a);\n",
    "    }"
   ]
  },
  {
   "cell_type": "code",
   "execution_count": 166,
   "id": "df2852c4",
   "metadata": {},
   "outputs": [
    {
     "name": "stdout",
     "output_type": "stream",
     "text": [
      "Enter the value of first side a: 0\n",
      "Enter the value of sec side b: 0\n",
      "Enter the value of third side c: 0\n",
      "The value of S is: 0\n",
      "The area of the triangle by given values is: 0\n"
     ]
    }
   ],
   "source": [
    "/*Question 3 C#\n",
    "Implement function triangleArea(a,b,c) that takes as input the lengths of the 3\n",
    "sides of a triangle and returns the area of the triangle. By Heron's formula, the area\n",
    "of a triangle with side lengths a, b, and c is s(s − a)(s −b)(s −c), where\n",
    "s = (a + b + c)/2. */\n",
    "\n",
    "\n",
    "\n",
    "static void triangleArea(double a, double b, double c){\n",
    "\n",
    "    //After taking all side measurement from the user putting every value for find the value of s\n",
    "    double s = (a + b + c) / 2;\n",
    "\n",
    "    //Formula for finding area by Heron's formula and here for finding Square-root inbuild math function is used\n",
    "    double area = Math.Sqrt(s * (s - a) * (s - b) * (s - c));\n",
    "\n",
    "    Console.WriteLine(\"The value of S is: \" + s);\n",
    "    Console.WriteLine(\"The area of the triangle by given values is: \" + area);\n",
    "    Console.ReadLine();\n",
    "\n",
    "}\n",
    "\n",
    "//Taking the value of a, b and c from the user then converting the value to Double \n",
    "    /*\n",
    "    \n",
    "    Console.Write(\"Enter the value of first side a: \");\n",
    "    a = Convert.ToDouble(Console.ReadLine());\n",
    "    Console.WriteLine(a);\n",
    "\n",
    "\n",
    "    Console.Write(\"Enter the value of sec side b: \");\n",
    "    b = Convert.ToDouble(Console.ReadLine());\n",
    "    Console.WriteLine(b);\n",
    "\n",
    "\n",
    "    Console.Write(\"Enter the value of third side c: \");\n",
    "    c = Convert.ToDouble(Console.ReadLine());\n",
    "    Console.WriteLine(c);\n",
    "    */\n",
    "\n",
    "triangleArea(2, 2, 2)\n",
    "\n"
   ]
  },
  {
   "cell_type": "code",
   "execution_count": 105,
   "id": "3955ce48",
   "metadata": {},
   "outputs": [
    {
     "name": "stdout",
     "output_type": "stream",
     "text": [
      "Even numbers...\n",
      "42\n",
      "56\n",
      "32\n",
      "Odd numbers...\n",
      "25\n",
      "47\n"
     ]
    }
   ],
   "source": [
    "/* Question 4 C#\n",
    "Write a program in C# Sharp to separate odd and even integers in separate arrays.\n",
    "Go to the editor\n",
    "Test Data :\n",
    "Input the number of elements to be stored in the array :5\n",
    "Input 5 elements in the array :\n",
    "element - 0 : 25\n",
    "element - 1 : 47\n",
    "element - 2 : 42\n",
    "element - 3 : 56\n",
    "element - 4 : 32 */\n",
    "\n",
    "\n",
    "\n",
    "\n",
    "int[] array1 = new int[] {25, 47, 42, 56, 32}; // Giving the value in the array\n",
    "         \n",
    "int[] array2 = new int[5]; // Declaring for storing even number\n",
    "int[] array3 = new int[5]; // Declaring for storing odd number\n",
    "\n",
    "int i, j = 0, k = 0;\n",
    "     for (i = 0; i < 5; i++) \n",
    "     {\n",
    "        if (array1[i] % 2 == 0) // Here even number will be divisible by 2 and the reminder will be 0\n",
    "        {\n",
    "           array2[j] = array1[i];\n",
    "               j++;\n",
    "        }\n",
    "        else // Opposite situation\n",
    "        {\n",
    "           array3[k] = array1[i];\n",
    "           k++;\n",
    "        }\n",
    "     }\n",
    "     Console.WriteLine(\"Even numbers...\");\n",
    "     for (i = 0; i < j; i++) // Will print all even numbers\n",
    "     {\n",
    "        Console.WriteLine(array2[i]);\n",
    "     }\n",
    "        Console.WriteLine(\"Odd numbers...\"); // Will print all odd numbers\n",
    "     for (i = 0; i < k; i++) {\n",
    "        Console.WriteLine(array3[i]);\n",
    "     }\n"
   ]
  },
  {
   "cell_type": "code",
   "execution_count": 181,
   "id": "2f3b92eb",
   "metadata": {},
   "outputs": [
    {
     "name": "stdout",
     "output_type": "stream",
     "text": [
      "The point is inside the rectangle\n",
      "The point is not in Rectangle\n"
     ]
    }
   ],
   "source": [
    "/*Question 5 C#\n",
    "a. Write a function inside(x,y,x1,y1,x2,y2) that returns True or False\n",
    "depending on whether the point(x,y) lies in the rectangle with lowerleft\n",
    "corner (x1,y1) and upper right corner (x2,y2).*/\n",
    "\n",
    "\n",
    "\n",
    "\n",
    "static void inside(int[] value1){\n",
    "    if(value1[2] < value1[0] && value1[0] < value1[4] ){\n",
    "            \n",
    "        if(value1[3] < value1[1] && value1[1] < value1[5]){\n",
    "           \n",
    "            Console.WriteLine(\"The point is inside the rectangle\");\n",
    "        }\n",
    "        else{Console.WriteLine(\"The point is not in Rectangle\");}\n",
    "    }\n",
    "    else{Console.WriteLine(\"The point is not in Rectangle\");}\n",
    "}\n",
    "\n",
    "int[] value1 = {1,1,0,0,2,2};\n",
    "int[] value2 = {-1,-1,0,0,2,3};\n",
    "\n",
    "// Calling the Function.\n",
    "inside(value1);\n",
    "inside(value2);\n",
    "\n",
    "\n",
    "\n"
   ]
  },
  {
   "cell_type": "code",
   "execution_count": 182,
   "id": "dbdf42b0",
   "metadata": {},
   "outputs": [
    {
     "name": "stdout",
     "output_type": "stream",
     "text": [
      "The point is not in Rectangle\n",
      "The point is inside the rectangle\n"
     ]
    }
   ],
   "source": [
    "/*Question 5 C#\n",
    "a. Write a function inside(x,y,x1,y1,x2,y2) that returns True or False\n",
    "dependingonwhetherthepoint(x,y)liesintherectanglewithlowerleft\n",
    "corner (x1,y1) and upper right corner (x2,y2).\n",
    ">>> inside(1,1,0,0,2,3)\n",
    "True\n",
    ">>> inside(-1,-1,0,0,2,3)\n",
    "False\n",
    "b. Use function inside()from part a. to write an expression that tests whether\n",
    "the point (1,1) lies in both of the following rectangles: one with lower left\n",
    "corner (0.3, 0.5) and upper right corner (1.1, 0.7) and the other with lower\n",
    "left corner (0.5, 0.2) and upper right corner (1.1, 2).\n",
    "*/\n",
    "\n",
    "\n",
    "\n",
    "\n",
    "static void inside(double[] value1){\n",
    "    if(value1[2] < value1[0] && value1[0] < value1[4] ){\n",
    "            \n",
    "        if(value1[3] < value1[1] && value1[1] < value1[5]){\n",
    "           \n",
    "            Console.WriteLine(\"The point is inside the rectangle\");\n",
    "        }\n",
    "        else{Console.WriteLine(\"The point is not in Rectangle\");}\n",
    "    }\n",
    "    else{Console.WriteLine(\"The point is not in Rectangle\");}\n",
    "}\n",
    "double[] value3 = {1,1,0.3,0.5,1.1,0.7};\n",
    "double[] value4 = {1,1,0.5,0.2,1.1,2};\n",
    "\n",
    "inside(value3);\n",
    "inside(value4);"
   ]
  },
  {
   "cell_type": "code",
   "execution_count": 203,
   "id": "a4d5ba76",
   "metadata": {},
   "outputs": [
    {
     "name": "stdout",
     "output_type": "stream",
     "text": [
      "appyhay\n",
      "enterway\n"
     ]
    }
   ],
   "source": [
    "/*Question 6 C#\n",
    "• If the word starts with a vowel, simply append 'way' to the end of the word.\n",
    "For example, 'enter' becomes 'enterway' and 'other' becomes 'otherway' . For\n",
    "our purposes, there are 5 vowels: a, e, i, o, u (so we count y as a consonant).\n",
    "Write a function pig() that takes a word (i.e., a string) as input and returns its pigLatin form. Your function should still work if the input word contains upper case\n",
    "characters. Your output should always be lower case however.*/\n",
    "\n",
    "\n",
    "\n",
    "\n",
    "string value1 = \"happy\";\n",
    "string value2 = \"enter\";\n",
    "\n",
    "static void latin(string value){\n",
    "    // Console.WriteLine(value[0]);\n",
    "    \n",
    "    if(value[0] == 'a' || value[0] == 'e' || value[0] == 'i' || value[0] == 'o' || value[0] == 'u'){\n",
    "        value = value + \"way\";\n",
    "        Console.WriteLine(value);\n",
    "    }\n",
    "    else{\n",
    "        char first = value[0];\n",
    "        value = value.Substring(1);\n",
    "        value = value + first +\"ay\";\n",
    "        Console.WriteLine(value);\n",
    "    }\n",
    "\n",
    "}\n",
    "\n",
    "latin(value1);\n",
    "latin(value2);"
   ]
  },
  {
   "cell_type": "code",
   "execution_count": null,
   "id": "032a92c1",
   "metadata": {},
   "outputs": [],
   "source": []
  }
 ],
 "metadata": {
  "kernelspec": {
   "display_name": ".NET (C#)",
   "language": "C#",
   "name": ".net-csharp"
  },
  "language_info": {
   "file_extension": ".cs",
   "mimetype": "text/x-csharp",
   "name": "C#",
   "pygments_lexer": "csharp",
   "version": "8.0"
  }
 },
 "nbformat": 4,
 "nbformat_minor": 5
}
